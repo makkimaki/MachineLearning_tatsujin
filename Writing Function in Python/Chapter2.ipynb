{
 "metadata": {
  "language_info": {
   "codemirror_mode": {
    "name": "ipython",
    "version": 3
   },
   "file_extension": ".py",
   "mimetype": "text/x-python",
   "name": "python",
   "nbconvert_exporter": "python",
   "pygments_lexer": "ipython3",
   "version": "3.7.3-final"
  },
  "orig_nbformat": 2,
  "kernelspec": {
   "name": "python37364bitanaconda3condab62b6469273b40019ec59333b81f150c",
   "display_name": "Python 3.7.3 64-bit ('anaconda3': conda)"
  }
 },
 "nbformat": 4,
 "nbformat_minor": 2,
 "cells": [
  {
   "cell_type": "code",
   "execution_count": 2,
   "metadata": {
    "tags": []
   },
   "outputs": [
    {
     "output_type": "stream",
     "name": "stdout",
     "text": "Lewis Carroll uses the word \"cat\" 22 times\n"
    }
   ],
   "source": [
    "# Use the open() context manager to open alice.txt and assign the file to the file variable.\n",
    "with open(\"alice.txt\") as file:\n",
    "    text = file.read()\n",
    "\n",
    "n = 0\n",
    "for word in text.split():\n",
    "    if word.lower() in [\"cat\", \"cats\"]:\n",
    "        n += 1\n",
    "\n",
    "print('Lewis Carroll uses the word \"cat\" {} times'.format(n))"
   ]
  },
  {
   "cell_type": "code",
   "execution_count": null,
   "metadata": {},
   "outputs": [],
   "source": []
  }
 ]
}