{
 "cells": [
  {
   "cell_type": "code",
   "execution_count": 1,
   "metadata": {},
   "outputs": [],
   "source": [
    "def count_letter(content, letter):\n",
    "  \"\"\"Count the number of times `letter` appears in `content`.\n",
    "\n",
    "  Args:\n",
    "    content (str): The string to search.\n",
    "    letter (str): The letter to search for.\n",
    "\n",
    "  Returns:\n",
    "    int\n",
    "\n",
    "  # Add a section detailing what errors might be raised\n",
    "  Raises:\n",
    "    ValueError: If `letter` is not a one-character string.\n",
    "  \"\"\"\n",
    "  if (not isinstance(letter, str)) or len(letter) != 1:\n",
    "    raise ValueError('`letter` must be a single character string.')\n",
    "  return len([char for char in content if char == letter])"
   ]
  },
  {
   "cell_type": "code",
   "execution_count": 2,
   "metadata": {},
   "outputs": [
    {
     "output_type": "stream",
     "name": "stdout",
     "text": "############################\nCount the number of times `letter` appears in `content`.\n\n  Args:\n    content (str): The string to search.\n    letter (str): The letter to search for.\n\n  Returns:\n    int\n\n  # Add a section detailing what errors might be raised\n  Raises:\n    ValueError: If `letter` is not a one-character string.\n  \n############################\n"
    }
   ],
   "source": [
    "# Get the docstring with an attribute of count_letter()\n",
    "docstring = count_letter.__doc__\n",
    "\n",
    "border = '#' * 28\n",
    "print('{}\\n{}\\n{}'.format(border, docstring, border))"
   ]
  },
  {
   "cell_type": "code",
   "execution_count": 3,
   "metadata": {},
   "outputs": [
    {
     "output_type": "stream",
     "name": "stdout",
     "text": "############################\nCount the number of times `letter` appears in `content`.\n\nArgs:\n  content (str): The string to search.\n  letter (str): The letter to search for.\n\nReturns:\n  int\n\n# Add a section detailing what errors might be raised\nRaises:\n  ValueError: If `letter` is not a one-character string.\n############################\n"
    }
   ],
   "source": [
    "import inspect\n",
    "\n",
    "# Get the docstring with a function from the inspect module\n",
    "docstring = inspect.getdoc(count_letter)\n",
    "\n",
    "border = '#' * 28\n",
    "print('{}\\n{}\\n{}'.format(border, docstring, border))"
   ]
  },
  {
   "cell_type": "code",
   "execution_count": 4,
   "metadata": {},
   "outputs": [
    {
     "output_type": "stream",
     "name": "stdout",
     "text": "############################\nCount the number of times `letter` appears in `content`.\n\nArgs:\n  content (str): The string to search.\n  letter (str): The letter to search for.\n\nReturns:\n  int\n\n# Add a section detailing what errors might be raised\nRaises:\n  ValueError: If `letter` is not a one-character string.\n############################\n############################\nrange(stop) -> range object\nrange(start, stop[, step]) -> range object\n\nReturn an object that produces a sequence of integers from start (inclusive)\nto stop (exclusive) by step.  range(i, j) produces i, i+1, i+2, ..., j-1.\nstart defaults to 0, and stop is omitted!  range(4) produces 0, 1, 2, 3.\nThese are exactly the valid indices for a list of 4 elements.\nWhen step is given, it specifies the increment (or decrement).\n############################\n############################\nprint(value, ..., sep=' ', end='\\n', file=sys.stdout, flush=False)\n\nPrints the values to a stream, or to sys.stdout by default.\nOptional keyword arguments:\nfile:  a file-like object (stream); defaults to the current sys.stdout.\nsep:   string inserted between values, default a space.\nend:   string appended after the last value, default a newline.\nflush: whether to forcibly flush the stream.\n############################\n"
    }
   ],
   "source": [
    "def build_tooltip(function):\n",
    "  \"\"\"Create a tooltip for any function that shows the \n",
    "  function's docstring.\n",
    "  \n",
    "  Args:\n",
    "    function (callable): The function we want a tooltip for.\n",
    "    \n",
    "  Returns:\n",
    "    str\n",
    "  \"\"\"\n",
    "  # Use 'inspect' to get the docstring\n",
    "  docstring = inspect.getdoc(function)\n",
    "  border = '#' * 28\n",
    "  return '{}\\n{}\\n{}'.format(border, docstring, border)\n",
    "\n",
    "print(build_tooltip(count_letter))\n",
    "print(build_tooltip(range))\n",
    "print(build_tooltip(print))"
   ]
  },
  {
   "cell_type": "code",
   "execution_count": null,
   "metadata": {},
   "outputs": [],
   "source": []
  }
 ],
 "metadata": {
  "language_info": {
   "codemirror_mode": {
    "name": "ipython",
    "version": 3
   },
   "file_extension": ".py",
   "mimetype": "text/x-python",
   "name": "python",
   "nbconvert_exporter": "python",
   "pygments_lexer": "ipython3",
   "version": "3.7.3-final"
  },
  "orig_nbformat": 2,
  "kernelspec": {
   "name": "python37364bitanaconda3condab62b6469273b40019ec59333b81f150c",
   "display_name": "Python 3.7.3 64-bit ('anaconda3': conda)"
  }
 },
 "nbformat": 4,
 "nbformat_minor": 2
}