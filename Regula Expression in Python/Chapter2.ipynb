{
 "nbformat": 4,
 "nbformat_minor": 2,
 "metadata": {
  "language_info": {
   "name": "python",
   "codemirror_mode": {
    "name": "ipython",
    "version": 3
   },
   "version": "3.7.3-final"
  },
  "orig_nbformat": 2,
  "file_extension": ".py",
  "mimetype": "text/x-python",
  "name": "python",
  "npconvert_exporter": "python",
  "pygments_lexer": "ipython3",
  "version": 3,
  "kernelspec": {
   "name": "python37364bitanaconda3condab62b6469273b40019ec59333b81f150c",
   "display_name": "Python 3.7.3 64-bit ('anaconda3': conda)"
  }
 },
 "cells": [
  {
   "cell_type": "code",
   "execution_count": 1,
   "metadata": {},
   "outputs": [],
   "source": [
    "# Put it in order!\n",
    "wikipedia_article = 'In computer science, artificial intelligence (AI), sometimes called machine intelligence, is intelligence demonstrated by machines, in contrast to the natural intelligence displayed by humans and animals.'"
   ]
  },
  {
   "cell_type": "code",
   "execution_count": 2,
   "metadata": {},
   "outputs": [],
   "source": [
    "# Assign the substrings to the variables\n",
    "first_pos = wikipedia_article[3:19].lower()\n",
    "second_pos = wikipedia_article[21:44].lower()"
   ]
  },
  {
   "cell_type": "code",
   "execution_count": 4,
   "metadata": {},
   "outputs": [
    {
     "output_type": "stream",
     "name": "stdout",
     "text": "['The tool {} is used in {}', 'The tool {1} is used in {0}']\n"
    }
   ],
   "source": [
    "my_list = []\n",
    "\n",
    "# Define string with placeholders \n",
    "my_list.append(\"The tool {} is used in {}\")\n",
    "\n",
    "# Define string with rearranged placeholders\n",
    "my_list.append(\"The tool {1} is used in {0}\")\n",
    "\n",
    "print(my_list)"
   ]
  },
  {
   "cell_type": "code",
   "execution_count": 5,
   "metadata": {},
   "outputs": [
    {
     "output_type": "stream",
     "name": "stdout",
     "text": "The tool computer science is used in artificial intelligence\nThe tool artificial intelligence is used in computer science\n"
    }
   ],
   "source": [
    "# Use format to print strings\n",
    "for my_string in my_list:\n",
    "  \tprint(my_string.format(first_pos, second_pos))"
   ]
  },
  {
   "cell_type": "code",
   "execution_count": 8,
   "metadata": {},
   "outputs": [],
   "source": [
    "# Calling by its name\n",
    "plan = {'field': 'artificial intelligence', 'tool': 'neural networks'}\n",
    "courses  =['artificial intelligence', 'neural networks']"
   ]
  },
  {
   "cell_type": "code",
   "execution_count": 9,
   "metadata": {},
   "outputs": [
    {
     "output_type": "stream",
     "name": "stdout",
     "text": "If you are interested in artificial intelligence, you can take the course related to neural networks\n"
    }
   ],
   "source": [
    "# Create a dictionary\n",
    "plan = {\n",
    "  \t\t\"field\": courses[0],\n",
    "        \"tool\": courses[1]\n",
    "        }\n",
    "\n",
    "# Complete the placeholders accessing elements of field and tool keys\n",
    "my_message = \"If you are interested in {data[field]}, you can take the course related to {data[tool]}\"\n",
    "\n",
    "# Use dictionary to replace placeholders\n",
    "print(my_message.format(data=plan))\n",
    "\n",
    "#For accessing elements in a dictionary when using the str.format() method, you need to use dict[index] without using quotes for index. The method converts it automatically to the string \"index\" when it is looked up in the dict."
   ]
  },
  {
   "cell_type": "code",
   "execution_count": 10,
   "metadata": {},
   "outputs": [
    {
     "output_type": "stream",
     "name": "stdout",
     "text": "Good morning. Today is April 29, 2020. It's 13:31 ... time to work!\n"
    }
   ],
   "source": [
    "# What day is today?\n",
    "# The date should be expressed as Month day, year, e.g. April 16, 2019 and the time as hh:mm, e.g. 16:30. \n",
    "#You write down some specifiers to help you: %d(day), %B (month name), %m (month number), %Y(year), %H (hour) and %M(minutes)\n",
    "\n",
    "# Import datetime \n",
    "from datetime import datetime\n",
    "\n",
    "# Assign date to get_date\n",
    "get_date = datetime.now()\n",
    "\n",
    "# Add named placeholders with format specifiers\n",
    "message = \"Good morning. Today is {named:%B %d, %Y}. It's {named:%H:%M} ... time to work!\"\n",
    "\n",
    "# Format date\n",
    "print(message.format(named=get_date))"
   ]
  },
  {
   "cell_type": "code",
   "execution_count": 11,
   "metadata": {},
   "outputs": [
    {
     "output_type": "stream",
     "name": "stdout",
     "text": "Data science is considered 'sexiest job' in the 21st century\n"
    }
   ],
   "source": [
    "# Literally formatting\n",
    "field1 = 'sexiest job'\n",
    "fact1 = 21\n",
    "# Complete the f-string\n",
    "print(f\"Data science is considered {field1!r} in the {fact1}st century\")"
   ]
  },
  {
   "cell_type": "code",
   "execution_count": 12,
   "metadata": {},
   "outputs": [
    {
     "output_type": "stream",
     "name": "stdout",
     "text": "About 2.500e+18 of data is produced daily in the world\n"
    }
   ],
   "source": [
    "fact2 = 2500000000000000000\n",
    "field2 = \"data is produced daily\"\n",
    "# Complete the f-string\n",
    "print(f\"About {fact2:0.3e} of {field2} in the world\")"
   ]
  },
  {
   "cell_type": "code",
   "execution_count": 14,
   "metadata": {},
   "outputs": [
    {
     "output_type": "stream",
     "name": "stdout",
     "text": "Individuals create around 72.41% of the data but only 1.1% is analyzed\n"
    }
   ],
   "source": [
    "fact3 = 72.41415415151\n",
    "field3 = \"Individuals\"\n",
    "fact4 = 1.09\n",
    "# Complete the f-string\n",
    "print(f\"{field3} create around {fact3:.2f}% of the data but only {fact4:.1f}% is analyzed\")"
   ]
  },
  {
   "cell_type": "code",
   "execution_count": 15,
   "metadata": {},
   "outputs": [
    {
     "output_type": "stream",
     "name": "stdout",
     "text": "120 tweets were downloaded in 7 minutes indicating a speed of 17.1 tweets per min\n"
    }
   ],
   "source": [
    "# Make this function\n",
    "number1 = 120\n",
    "number2 = 7\n",
    "# Include both variables and the result of dividing them \n",
    "print(f\"{number1} tweets were downloaded in {number2} minutes indicating a speed of {number1/number2:.1f} tweets per min\")"
   ]
  },
  {
   "cell_type": "code",
   "execution_count": 16,
   "metadata": {},
   "outputs": [
    {
     "output_type": "stream",
     "name": "stdout",
     "text": "www.datacamp.com\n"
    }
   ],
   "source": [
    "string1 = 'httpswww.datacamp.com'\n",
    "# Replace the substring http by an empty string\n",
    "print(f\"{string1.replace('https', '')}\")\n",
    "\n",
    "# To call the function .replace() on my_string inside a f-string, use f\"text {my_string.replace()}\". Remember escape sequences are not allowed; different quotes need to be used for the f-string and the strings inside .replace()."
   ]
  },
  {
   "cell_type": "code",
   "execution_count": 20,
   "metadata": {},
   "outputs": [
    {
     "output_type": "stream",
     "name": "stdout",
     "text": "The price for a house in the east neighborhood was $1232443 in 04-20-2007\nThe price for a house in the west neighborhood was $1432673 in 05-26-2006.\n"
    }
   ],
   "source": [
    "# On time\n",
    "import datetime\n",
    "east = {'date': datetime.datetime(2007, 4, 20, 0, 0), 'price': 1232443}\n",
    "# Access values of date and price in east dictionary\n",
    "print(f\"The price for a house in the east neighborhood was ${east['price']} in {east['date']:%m-%d-%Y}\")\n",
    "\n",
    "west = {'date': datetime.datetime(2006, 5, 26, 0, 0), 'price': 1432673}\n",
    "# Access values of date and price in west dictionary\n",
    "print(f\"The price for a house in the west neighborhood was ${west['price']} in {west['date']:%m-%d-%Y}.\")"
   ]
  },
  {
   "cell_type": "code",
   "execution_count": 22,
   "metadata": {},
   "outputs": [
    {
     "output_type": "stream",
     "name": "stdout",
     "text": "We are offering a 3-month beginner course on Natural Language Toolkit just for $ 20 monthly\n"
    }
   ],
   "source": [
    "# Optional...\n",
    "\n",
    "# Identifying prices\n",
    "# Import template\n",
    "from string import Template\n",
    "\n",
    "tools = ['Natural Language Toolkit', '20', 'month']\n",
    "\n",
    "# Select variables\n",
    "our_tool = tools[0]\n",
    "our_fee = tools[1]\n",
    "our_pay = tools[2]\n",
    "\n",
    "# Create template\n",
    "course = Template(\"We are offering a 3-month beginner course on $tool just for $$ $fee ${pay}ly\")\n",
    "\n",
    "# Substitute identifiers with three variables\n",
    "print(course.substitute(tool=our_tool, fee=our_fee, pay=our_pay))\n",
    "\n",
    "# Nicely done! Because the dollar sign is used for identifiers, you need to use curly braces to enclose the identifier name to add valid characters immediately after. Also, if a dollar sign has to be in the string, your need to escape it using $$."
   ]
  },
  {
   "cell_type": "code",
   "execution_count": 23,
   "metadata": {},
   "outputs": [
    {
     "output_type": "stream",
     "name": "stdout",
     "text": "Check your answer 1: I really like the app. But there are some features that can be improved, and your answer 2: $answer2\n"
    }
   ],
   "source": [
    "# Playing safe\n",
    "# Import template\n",
    "from string import Template\n",
    "\n",
    "answers = {'answer1': 'I really like the app. But there are some features that can be improved'}\n",
    "\n",
    "# Complete template string using identifiers\n",
    "the_answers = Template(\"Check your answer 1: $answer1, and your answer 2: $answer2\")\n",
    "\n",
    "# Use safe_substitute to replace identifiers\n",
    "try:\n",
    "    print(the_answers.safe_substitute(answers))\n",
    "except KeyError:\n",
    "    print(\"Missing information\")\n",
    "\n",
    "\n",
    "#.safe_substitute() avoids raising a KeyError because it uses the original placeholder if it is missing and consequently, always returns a usable string"
   ]
  },
  {
   "cell_type": "code",
   "execution_count": null,
   "metadata": {},
   "outputs": [],
   "source": []
  }
 ]
}